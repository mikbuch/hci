{
 "cells": [
  {
   "cell_type": "markdown",
   "metadata": {},
   "source": [
    "# 02.03. Bardziej zaawansowany przykład Django\n",
    "\n",
    "_hic sunt dracones_\n",
    "\n",
    "![hic_sunt_dracones](images/hic_sunt_dracones.png)\n",
    "\n",
    "Wkraczamy na niebezpieczne terytorium. Tutaj przetrwają tylko najsilniejsi (czyli my).\n",
    "\n",
    "Jeśli ktoś ma więcej czasu polecam lekturę [tego wycinka](https://tutorial.djangogirls.org/pl/django_models/) tutorialu Django Girls. Dowiemy się z niego czym są modele w Django.\n",
    "\n",
    "Oczywiście jeśli ktoś __nie ma czasu__ (choroba dzisiejszych czasów, _o termpora, o mores!_\n",
    "), natenczas zapraszam do lektury abstraktu poniżej.\n",
    "\n",
    "## Cel na ten Nobook\n",
    "\n",
    "Znów używamy naszej największej przewagi ewolucyjnej (wyobraźni) i stawiamy się w następującej problematycznej sytuacji:\n",
    "\n",
    "jesteśmy naukowcem, emporystą z krwi i kości. Czego potrzebujemy, aby nasze teorie miały oparcie w rzeczywistości? Eksperymentu oczywiście! Bo czy nie tym właśnie naukowcy się nie zajmują, nie przeprowadzają eksperymentów (chociażby myślowych), które mają na celu sprawdzenie jakiejś konkretnej teorii? Ale do tematu:\n",
    "\n",
    "> In science, experiment without theory is blind, but theory without experiment is empty.\n",
    "\n",
    "_Paul Thagard, 2007, Artificial Intelligence_\n",
    "\n",
    "### Przykład klasyczny, acz zazwyczaj-nie-ma-czasu-aby-go-przytaczać\n",
    "\n",
    "![galton](images/galton.jpg)\n",
    "\n",
    "_Kto zna tego pana?_\n",
    "\n",
    "Przytoczymy go więc przy okazji. [Całość tutaj](https://amstat.tandfonline.com/doi/full/10.1080/10691898.2001.11910537#), skrót w kolejnych zdaniach. Żyjemy w XIX-wiecznej Anglii, w największym imperium jakie widział świat u szczytu potęgi tegoż właśnie imperium. Naszym kuzynem jest sam Charles Robert Darwin. Tak się składa, że my również przysłużymy się nauce. W jaki sposób? Otóż położymy podwaliny konceptualne pod analizę regresji i korelację. _Shall we?_\n",
    "\n",
    "Obserwujemy pewne zjawisko zachodzące w świecie, a mianowicie dziedziczenie cech. Jedna ze składowych życia. Pokolenia zstępujące przekazują pewne cechy pokoleniom wstępującym. W tym momencie rodzą się dwa pytania:\n",
    " 1. Czy rzeczywiście tak jest? Być może tak się nam po prostu wydaje?\n",
    " 2. Jeśli tak rzeczywiście jest, jaka jest siła tego oddziaływania (dziedziczności)?\n",
    "\n",
    "Ciekawość nie daje nam spokoju, bierzemy się zatem do pracy. Potrzebujemy jakiegoś obiektu badawczego. Weźmy groszek, pachnący ( _lathyrus latifolius_ ). (Ciekawostka: jak pamiętamy, groszek [zwyczajny co prawda, ale zawsze groszek, ta sama rodzina, _fabaceae_ ] już raz był przyczynił się do rozwoju nauki, ale to nie był główny powód, dlaczego wybraliśmy akurat groszek.)\n",
    "\n",
    "![sweet_pea](images/sweet_pea.jpg)\n",
    "\n",
    "Co zrobimy, aby objąć nasz problem _konceptualnie_ ? Otóż rysujemy wykres, na którym na jednej osi mamy cechy \"rodziców\", a na drugiej \"potomstwa\" (jak w przykładzie poniżej, z artykułu podlinkowanego wcześniej):\n",
    "\n",
    "![regression](images/regression.jpg)\n",
    "\n",
    "### Trochę techniki\n",
    "\n",
    "W tym momencie się zatrzymajmy. Weźmy przykład danych, na którym działaliśmy (**Uwaga** w tym miejscu w celach dydaktycznych odbiegamy od oryginalnych danych). Wczytajmy przykładowe dane:"
   ]
  },
  {
   "cell_type": "code",
   "execution_count": 1,
   "metadata": {},
   "outputs": [
    {
     "data": {
      "text/html": [
       "<div>\n",
       "<style scoped>\n",
       "    .dataframe tbody tr th:only-of-type {\n",
       "        vertical-align: middle;\n",
       "    }\n",
       "\n",
       "    .dataframe tbody tr th {\n",
       "        vertical-align: top;\n",
       "    }\n",
       "\n",
       "    .dataframe thead th {\n",
       "        text-align: right;\n",
       "    }\n",
       "</style>\n",
       "<table border=\"1\" class=\"dataframe\">\n",
       "  <thead>\n",
       "    <tr style=\"text-align: right;\">\n",
       "      <th></th>\n",
       "      <th>Diameter of Parent Seed (0.01 inch)</th>\n",
       "      <th>Diameter of Daughter Seed (0.01 inch)</th>\n",
       "    </tr>\n",
       "  </thead>\n",
       "  <tbody>\n",
       "    <tr>\n",
       "      <td>0</td>\n",
       "      <td>23.0</td>\n",
       "      <td>27.1</td>\n",
       "    </tr>\n",
       "    <tr>\n",
       "      <td>1</td>\n",
       "      <td>33.7</td>\n",
       "      <td>44.1</td>\n",
       "    </tr>\n",
       "    <tr>\n",
       "      <td>2</td>\n",
       "      <td>27.8</td>\n",
       "      <td>44.1</td>\n",
       "    </tr>\n",
       "    <tr>\n",
       "      <td>3</td>\n",
       "      <td>31.5</td>\n",
       "      <td>47.9</td>\n",
       "    </tr>\n",
       "    <tr>\n",
       "      <td>4</td>\n",
       "      <td>29.9</td>\n",
       "      <td>45.5</td>\n",
       "    </tr>\n",
       "    <tr>\n",
       "      <td>...</td>\n",
       "      <td>...</td>\n",
       "      <td>...</td>\n",
       "    </tr>\n",
       "    <tr>\n",
       "      <td>195</td>\n",
       "      <td>44.4</td>\n",
       "      <td>45.1</td>\n",
       "    </tr>\n",
       "    <tr>\n",
       "      <td>196</td>\n",
       "      <td>30.5</td>\n",
       "      <td>22.9</td>\n",
       "    </tr>\n",
       "    <tr>\n",
       "      <td>197</td>\n",
       "      <td>33.0</td>\n",
       "      <td>28.3</td>\n",
       "    </tr>\n",
       "    <tr>\n",
       "      <td>198</td>\n",
       "      <td>32.9</td>\n",
       "      <td>21.5</td>\n",
       "    </tr>\n",
       "    <tr>\n",
       "      <td>199</td>\n",
       "      <td>46.8</td>\n",
       "      <td>50.0</td>\n",
       "    </tr>\n",
       "  </tbody>\n",
       "</table>\n",
       "<p>200 rows × 2 columns</p>\n",
       "</div>"
      ],
      "text/plain": [
       "     Diameter of Parent Seed (0.01 inch)  \\\n",
       "0                                   23.0   \n",
       "1                                   33.7   \n",
       "2                                   27.8   \n",
       "3                                   31.5   \n",
       "4                                   29.9   \n",
       "..                                   ...   \n",
       "195                                 44.4   \n",
       "196                                 30.5   \n",
       "197                                 33.0   \n",
       "198                                 32.9   \n",
       "199                                 46.8   \n",
       "\n",
       "     Diameter of Daughter Seed (0.01 inch)  \n",
       "0                                     27.1  \n",
       "1                                     44.1  \n",
       "2                                     44.1  \n",
       "3                                     47.9  \n",
       "4                                     45.5  \n",
       "..                                     ...  \n",
       "195                                   45.1  \n",
       "196                                   22.9  \n",
       "197                                   28.3  \n",
       "198                                   21.5  \n",
       "199                                   50.0  \n",
       "\n",
       "[200 rows x 2 columns]"
      ]
     },
     "execution_count": 1,
     "metadata": {},
     "output_type": "execute_result"
    }
   ],
   "source": [
    "import pandas as pd\n",
    "\n",
    "df = pd.read_csv('data/Galton_pea.csv')\n",
    "df"
   ]
  },
  {
   "cell_type": "code",
   "execution_count": 2,
   "metadata": {},
   "outputs": [
    {
     "data": {
      "text/html": [
       "<div>\n",
       "<style scoped>\n",
       "    .dataframe tbody tr th:only-of-type {\n",
       "        vertical-align: middle;\n",
       "    }\n",
       "\n",
       "    .dataframe tbody tr th {\n",
       "        vertical-align: top;\n",
       "    }\n",
       "\n",
       "    .dataframe thead th {\n",
       "        text-align: right;\n",
       "    }\n",
       "</style>\n",
       "<table border=\"1\" class=\"dataframe\">\n",
       "  <thead>\n",
       "    <tr style=\"text-align: right;\">\n",
       "      <th></th>\n",
       "      <th>Diameter of Parent Seed (0.01 inch)</th>\n",
       "      <th>Diameter of Daughter Seed (0.01 inch)</th>\n",
       "    </tr>\n",
       "  </thead>\n",
       "  <tbody>\n",
       "    <tr>\n",
       "      <td>count</td>\n",
       "      <td>200.000000</td>\n",
       "      <td>200.000000</td>\n",
       "    </tr>\n",
       "    <tr>\n",
       "      <td>mean</td>\n",
       "      <td>32.105000</td>\n",
       "      <td>40.044000</td>\n",
       "    </tr>\n",
       "    <tr>\n",
       "      <td>std</td>\n",
       "      <td>8.247313</td>\n",
       "      <td>9.080265</td>\n",
       "    </tr>\n",
       "    <tr>\n",
       "      <td>min</td>\n",
       "      <td>10.300000</td>\n",
       "      <td>13.100000</td>\n",
       "    </tr>\n",
       "    <tr>\n",
       "      <td>25%</td>\n",
       "      <td>27.250000</td>\n",
       "      <td>34.400000</td>\n",
       "    </tr>\n",
       "    <tr>\n",
       "      <td>50%</td>\n",
       "      <td>32.250000</td>\n",
       "      <td>40.950000</td>\n",
       "    </tr>\n",
       "    <tr>\n",
       "      <td>75%</td>\n",
       "      <td>38.050000</td>\n",
       "      <td>45.425000</td>\n",
       "    </tr>\n",
       "    <tr>\n",
       "      <td>max</td>\n",
       "      <td>53.400000</td>\n",
       "      <td>62.700000</td>\n",
       "    </tr>\n",
       "  </tbody>\n",
       "</table>\n",
       "</div>"
      ],
      "text/plain": [
       "       Diameter of Parent Seed (0.01 inch)  \\\n",
       "count                           200.000000   \n",
       "mean                             32.105000   \n",
       "std                               8.247313   \n",
       "min                              10.300000   \n",
       "25%                              27.250000   \n",
       "50%                              32.250000   \n",
       "75%                              38.050000   \n",
       "max                              53.400000   \n",
       "\n",
       "       Diameter of Daughter Seed (0.01 inch)  \n",
       "count                             200.000000  \n",
       "mean                               40.044000  \n",
       "std                                 9.080265  \n",
       "min                                13.100000  \n",
       "25%                                34.400000  \n",
       "50%                                40.950000  \n",
       "75%                                45.425000  \n",
       "max                                62.700000  "
      ]
     },
     "execution_count": 2,
     "metadata": {},
     "output_type": "execute_result"
    }
   ],
   "source": [
    "df.describe()"
   ]
  },
  {
   "cell_type": "markdown",
   "metadata": {},
   "source": [
    "Jak narysować regresję w Pythonie? Na przykład tak ([źródło](https://raphaelvallat.com/correlation.html)):"
   ]
  },
  {
   "cell_type": "code",
   "execution_count": 3,
   "metadata": {},
   "outputs": [],
   "source": [
    "# Importy muszą być osobno\n",
    "import seaborn as sns\n",
    "import matplotlib.pyplot as plt\n",
    "from scipy.stats import pearsonr"
   ]
  },
  {
   "cell_type": "code",
   "execution_count": 4,
   "metadata": {},
   "outputs": [
    {
     "data": {
      "image/png": "[encoded data removed]",
      "text/plain": [
       "<Figure size 576x576 with 3 Axes>"
      ]
     },
     "metadata": {},
     "output_type": "display_data"
    }
   ],
   "source": [
    "sns.set(style='white', font_scale=1.2)\n",
    "\n",
    "r, p = pearsonr(df['Diameter of Parent Seed (0.01 inch)'], df['Diameter of Daughter Seed (0.01 inch)'])\n",
    "# Prevent p=0.000\n",
    "if p < 0.001:\n",
    "    p = 0.001\n",
    "\n",
    "g = sns.JointGrid(data=df,\n",
    "                  x='Diameter of Parent Seed (0.01 inch)',\n",
    "                  y='Diameter of Daughter Seed (0.01 inch)',\n",
    "                  xlim=(10, 60),\n",
    "                  ylim=(10, 60), height=8)\n",
    "g = g.plot_joint(sns.regplot, color=\"xkcd:muted blue\")\n",
    "g = g.plot_marginals(sns.distplot, kde=False, bins=12, color=\"xkcd:bluey grey\")\n",
    "g.ax_joint.text(11, 58, 'r = %.03f, p < %.03f' % (r, p), fontstyle='italic')\n",
    "plt.tight_layout()"
   ]
  },
  {
   "cell_type": "markdown",
   "metadata": {},
   "source": [
    "Możemy również wyliczyć korelację za pomocą funkcji w Pandach (dokumentacja [tutaj](https://pandas.pydata.org/pandas-docs/stable/reference/api/pandas.DataFrame.corr.html)):"
   ]
  },
  {
   "cell_type": "code",
   "execution_count": 5,
   "metadata": {},
   "outputs": [
    {
     "data": {
      "text/html": [
       "<div>\n",
       "<style scoped>\n",
       "    .dataframe tbody tr th:only-of-type {\n",
       "        vertical-align: middle;\n",
       "    }\n",
       "\n",
       "    .dataframe tbody tr th {\n",
       "        vertical-align: top;\n",
       "    }\n",
       "\n",
       "    .dataframe thead th {\n",
       "        text-align: right;\n",
       "    }\n",
       "</style>\n",
       "<table border=\"1\" class=\"dataframe\">\n",
       "  <thead>\n",
       "    <tr style=\"text-align: right;\">\n",
       "      <th></th>\n",
       "      <th>Diameter of Parent Seed (0.01 inch)</th>\n",
       "      <th>Diameter of Daughter Seed (0.01 inch)</th>\n",
       "    </tr>\n",
       "  </thead>\n",
       "  <tbody>\n",
       "    <tr>\n",
       "      <td>Diameter of Parent Seed (0.01 inch)</td>\n",
       "      <td>1.000000</td>\n",
       "      <td>0.446965</td>\n",
       "    </tr>\n",
       "    <tr>\n",
       "      <td>Diameter of Daughter Seed (0.01 inch)</td>\n",
       "      <td>0.446965</td>\n",
       "      <td>1.000000</td>\n",
       "    </tr>\n",
       "  </tbody>\n",
       "</table>\n",
       "</div>"
      ],
      "text/plain": [
       "                                       Diameter of Parent Seed (0.01 inch)  \\\n",
       "Diameter of Parent Seed (0.01 inch)                               1.000000   \n",
       "Diameter of Daughter Seed (0.01 inch)                             0.446965   \n",
       "\n",
       "                                       Diameter of Daughter Seed (0.01 inch)  \n",
       "Diameter of Parent Seed (0.01 inch)                                 0.446965  \n",
       "Diameter of Daughter Seed (0.01 inch)                               1.000000  "
      ]
     },
     "execution_count": 5,
     "metadata": {},
     "output_type": "execute_result"
    }
   ],
   "source": [
    "df.corr(method=\"pearson\")"
   ]
  },
  {
   "cell_type": "code",
   "execution_count": 6,
   "metadata": {},
   "outputs": [],
   "source": [
    "def pearson_r_xor_p(x, y, r_xor_p='r'):\n",
    "    r, p = pearsonr(x, y)\n",
    "    \n",
    "    if r_xor_p == 'r':\n",
    "        return r\n",
    "    else:\n",
    "        return p"
   ]
  },
  {
   "cell_type": "code",
   "execution_count": 7,
   "metadata": {},
   "outputs": [
    {
     "name": "stdout",
     "output_type": "stream",
     "text": [
      "r table\n"
     ]
    },
    {
     "data": {
      "text/html": [
       "<div>\n",
       "<style scoped>\n",
       "    .dataframe tbody tr th:only-of-type {\n",
       "        vertical-align: middle;\n",
       "    }\n",
       "\n",
       "    .dataframe tbody tr th {\n",
       "        vertical-align: top;\n",
       "    }\n",
       "\n",
       "    .dataframe thead th {\n",
       "        text-align: right;\n",
       "    }\n",
       "</style>\n",
       "<table border=\"1\" class=\"dataframe\">\n",
       "  <thead>\n",
       "    <tr style=\"text-align: right;\">\n",
       "      <th></th>\n",
       "      <th>Diameter of Parent Seed (0.01 inch)</th>\n",
       "      <th>Diameter of Daughter Seed (0.01 inch)</th>\n",
       "    </tr>\n",
       "  </thead>\n",
       "  <tbody>\n",
       "    <tr>\n",
       "      <td>Diameter of Parent Seed (0.01 inch)</td>\n",
       "      <td>1.000000</td>\n",
       "      <td>0.446965</td>\n",
       "    </tr>\n",
       "    <tr>\n",
       "      <td>Diameter of Daughter Seed (0.01 inch)</td>\n",
       "      <td>0.446965</td>\n",
       "      <td>1.000000</td>\n",
       "    </tr>\n",
       "  </tbody>\n",
       "</table>\n",
       "</div>"
      ],
      "text/plain": [
       "                                       Diameter of Parent Seed (0.01 inch)  \\\n",
       "Diameter of Parent Seed (0.01 inch)                               1.000000   \n",
       "Diameter of Daughter Seed (0.01 inch)                             0.446965   \n",
       "\n",
       "                                       Diameter of Daughter Seed (0.01 inch)  \n",
       "Diameter of Parent Seed (0.01 inch)                                 0.446965  \n",
       "Diameter of Daughter Seed (0.01 inch)                               1.000000  "
      ]
     },
     "execution_count": 7,
     "metadata": {},
     "output_type": "execute_result"
    }
   ],
   "source": [
    "print('r table')\n",
    "df.apply(lambda x: df.apply(lambda y: pearson_r_xor_p(x, y, r_xor_p='r')))"
   ]
  },
  {
   "cell_type": "code",
   "execution_count": 8,
   "metadata": {},
   "outputs": [
    {
     "name": "stdout",
     "output_type": "stream",
     "text": [
      "p table\n"
     ]
    },
    {
     "data": {
      "text/html": [
       "<div>\n",
       "<style scoped>\n",
       "    .dataframe tbody tr th:only-of-type {\n",
       "        vertical-align: middle;\n",
       "    }\n",
       "\n",
       "    .dataframe tbody tr th {\n",
       "        vertical-align: top;\n",
       "    }\n",
       "\n",
       "    .dataframe thead th {\n",
       "        text-align: right;\n",
       "    }\n",
       "</style>\n",
       "<table border=\"1\" class=\"dataframe\">\n",
       "  <thead>\n",
       "    <tr style=\"text-align: right;\">\n",
       "      <th></th>\n",
       "      <th>Diameter of Parent Seed (0.01 inch)</th>\n",
       "      <th>Diameter of Daughter Seed (0.01 inch)</th>\n",
       "    </tr>\n",
       "  </thead>\n",
       "  <tbody>\n",
       "    <tr>\n",
       "      <td>Diameter of Parent Seed (0.01 inch)</td>\n",
       "      <td>0.000000e+00</td>\n",
       "      <td>3.253278e-11</td>\n",
       "    </tr>\n",
       "    <tr>\n",
       "      <td>Diameter of Daughter Seed (0.01 inch)</td>\n",
       "      <td>3.253278e-11</td>\n",
       "      <td>0.000000e+00</td>\n",
       "    </tr>\n",
       "  </tbody>\n",
       "</table>\n",
       "</div>"
      ],
      "text/plain": [
       "                                       Diameter of Parent Seed (0.01 inch)  \\\n",
       "Diameter of Parent Seed (0.01 inch)                           0.000000e+00   \n",
       "Diameter of Daughter Seed (0.01 inch)                         3.253278e-11   \n",
       "\n",
       "                                       Diameter of Daughter Seed (0.01 inch)  \n",
       "Diameter of Parent Seed (0.01 inch)                             3.253278e-11  \n",
       "Diameter of Daughter Seed (0.01 inch)                           0.000000e+00  "
      ]
     },
     "execution_count": 8,
     "metadata": {},
     "output_type": "execute_result"
    }
   ],
   "source": [
    "print('p table')\n",
    "df.apply(lambda x: df.apply(lambda y: pearson_r_xor_p(x, y, r_xor_p='p')))"
   ]
  },
  {
   "cell_type": "markdown",
   "metadata": {},
   "source": [
    "### Co to ma wszystko wspólnego z KCK?\n",
    "\n",
    "Otóż wyobraźmy sobie, że jako naukowiec wiemy jak wyliczyć regresję, ale ani nie mamy narzędzia, aby to robić regularnie, ale nie sprawia nam to specjalnej przyjemności. Co byśmy wtedy chcieli? Chcielibyśmy narzędzia, które robi to za nas. Na zasadzie: \"dostarczam dane\", a następnie: \"otrzymuję wyniki\" -- statystyki, wizualizacje, itd. I dopiero na tej podstawie wyciągam wnioski ze swojego badania.\n",
    "\n",
    "Czy można zrobić taką platformę do liczenia danych za pomocą Django? Oczywiście, to właśnie teraz zrobimy.\n",
    "\n",
    "## Do dzieła!\n",
    "\n",
    "Może najpierw zobaczmy co chcemy uzyskać na gotowym przykładzie. Używany następujących komend:\n",
    "\n",
    "```bash\n",
    "git clone https://github.com/mikbuch/django_data_analysis\n",
    "\n",
    "cd django_data_analysis\n",
    "\n",
    "pip install -r requirements.txt\n",
    "\n",
    "python manage.py migrate\n",
    "\n",
    "python manage.py runserver\n",
    "```\n",
    "\n",
    "Jako zbiory danych używamy naszego (wyimaginowanego) zbiory wielkości ziaren groszków. Znajduje się on w pobranym przez nas repozytorium, w katalogu `data` lub na serwerze [tutaj](https://github.com/mikbuch/hci/blob/master/data/Galton_pea.csv) (lub jako surowy plik [tutaj](https://raw.githubusercontent.com/mikbuch/hci/master/data/Galton_pea.csv)).\n",
    "\n",
    "Wrzucamy plik na nasz serwer obliczeniowy (jak to dostojnie brzmi) i patrzymy co się dzieje. Jaką korelację wyliczył nasz serwer?"
   ]
  }
 ],
 "metadata": {
  "kernelspec": {
   "display_name": "Python 3",
   "language": "python",
   "name": "python3"
  },
  "language_info": {
   "codemirror_mode": {
    "name": "ipython",
    "version": 3
   },
   "file_extension": ".py",
   "mimetype": "text/x-python",
   "name": "python",
   "nbconvert_exporter": "python",
   "pygments_lexer": "ipython3",
   "version": "3.7.4"
  }
 },
 "nbformat": 4,
 "nbformat_minor": 2
}
