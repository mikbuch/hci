{
 "cells": [
  {
   "cell_type": "markdown",
   "metadata": {},
   "source": [
    "# 03. Wprowadzenie do Django\n",
    "\n",
    "Django jest Frameworkiem do tworzenia aplikacji internetowych (webowych).\n",
    "\n",
    "Ciekawe wprowadzenie napisane przystępnym językiem można znaleźć [tutaj](https://djangobook.com/mdj2-django-structure/).\n",
    "\n",
    "Poniżej streścimy całą ideę przed przystąpieniem do tworzenia naszej aplikacji.\n",
    "\n",
    "### Ćwiczenie 1\n",
    "\n",
    "![time](images/time.jpg)\n",
    "\n",
    "Wyobraźmy sobie, że jesteśmy na stanowisku kierowniczym w wielkiej i ważnej agencji informacyjnej. Co jest dla nas najważniejszym zasobem?  \n",
    ".  \n",
    ".  \n",
    ".   \n",
    ".   \n",
    ".   \n",
    "Czas. Im szybciej (i łatwiej) jest coś opublikować, tym lepiej.\n",
    "\n",
    "Czy dotychczas dostępne oprogramowanie było odpowiednie (wystarczające) dla naszego celu? Widać nie, inaczej nie zastanawialibyśmy się jak stworzyć coś nowego i wzięli po prostu gotowe rozwiązanie.\n",
    "\n",
    "Co się stało w przypadku Django?\n",
    "\n",
    "Wyobraźmy sobie sytuację z naszego (początkujących) punktu widzenia idealną. Zapominamy o całej tradycji nazewnictwa skomplikowanych procedur tworzenia oprogramowania sieciowego i robimy coś-co-działa. Jak nazwiemy to, co jest w środku? Jak pasuje. (To znaczy zachowamy pewną wierność tradycji, dla przyzwoitości.)\n",
    "\n",
    "Jakieś zasady musimy jednak przyjąć, dlaczego nie posłużyć się heurystykami?\n",
    "\n",
    "### Trzy filary Django\n",
    "\n",
    "![columns](images/columns.jpg)\n",
    "\n",
    "`I.` Chcemy narzędzi, które uczynią **zarządanie danymi** i bazami danych **łatwiejsze**!\n",
    "    \n",
    "`II.` Chcemy, aby wzory stron mogły być tworzone przez **nie-programistów**! (prawie jak w WordPressie)\n",
    "    \n",
    "`III.` Chcemy czegoś, co umożliwi użytkownikowi dostęp do danych, ale będzie **proste w utrzymaniu**! (ergo \"szybsze\", ergo tańsze)\n",
    "    \n",
    "Dobrze, tego się trzymajmy. Jak Django odpowiada na nasze potrzeby?\n",
    "\n",
    "Za punkt `I.` odpowiadają **MODELE**. Prosta sprawa: modele umożliwiają pracę z/zarządzanie danymi, świetnie.\n",
    "\n",
    "Kolejny punkt `II.` reprezentowany jest przez wzorce (**TEMPLATES**).\n",
    "\n",
    "Nareszcie punkt `III.`, tutaj przyda się rysunek:\n",
    "![mtv](images/mtv.png)\n",
    "Słowo komentarza: użytkownik widzi wypełniony wzorzec. Czym wzorzec ma się wypełnić? Danymi. Ca ma wypełnić wzorzec? **VIEW**\n",
    "\n",
    "![geine](images/geine.png)\n",
    "\n",
    "### Ćwiczenie 2\n",
    "\n",
    "Wyobraźmy sobie, że znaleźliśmy na bazarku w Egipcie starą lampę. Pocieramy ją i _puff_, wyskakuje _dżin_!\n",
    "\n",
    "Schemat funkcjonowania Django można wyrazić tymi słowy (uwaga, będzie **metafora pojęciowa**, zostańmy przy naszym serwisie informacyjnym): użytkownik (czyli my) ma _życzenie_ do serwera (dżina): \"Serwerze powiedz przecie, co słychać dzisiaj w newsach na świecie\". Serwer wie, ale wie też dużo innych rzeczy. Cała ta wiedza jest składowna w baaaaardzo skomplikowany sposób w baaaaaaardzo dużej bazie danych. Trzeba zatem jakiegoś __dżina__ (weźmy tego z lampy), który nam z tej gmatwaniny i zawiłości danych wyciągnie tylko to, co nas interesuje i zaprezentuje to w przystępnej dla nas formie (formacie). (Uff, najdłuższy paragraf jak dotychczas, ale jesteśmy wytrwali i prawie przez niego przebrnęliśmy, brawo dla nas!) Jaki był jeden z głównych powodów, dla których powstało Django? Otóż inne dostępne na rynku dżiny, wraz z ich magicznymi zwojami, które wypełniane są treścią (to, co widzi użytkownik) były za drogie w wywołaniu z lampy i w utrzymaniu :)\n",
    "\n"
   ]
  }
 ],
 "metadata": {
  "kernelspec": {
   "display_name": "Python 3",
   "language": "python",
   "name": "python3"
  },
  "language_info": {
   "codemirror_mode": {
    "name": "ipython",
    "version": 3
   },
   "file_extension": ".py",
   "mimetype": "text/x-python",
   "name": "python",
   "nbconvert_exporter": "python",
   "pygments_lexer": "ipython3",
   "version": "3.7.3"
  }
 },
 "nbformat": 4,
 "nbformat_minor": 2
}
