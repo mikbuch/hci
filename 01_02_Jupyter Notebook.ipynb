{
 "cells": [
  {
   "cell_type": "markdown",
   "metadata": {},
   "source": [
    "# 01.02 Jupyter Notebook\n",
    "\n",
    "Jupyter Notebook to technologia ułatwiająca wykonywanie interaktywnych obliczeń. Dzięki swojej przejrzystości i przystępności jest to również bardzo dobre narzędzie do celów edukacyjnych.\n",
    "\n",
    "[Ten przykład](https://nbviewer.jupyter.org/github/jupyter/notebook/blob/master/docs/source/examples/Notebook/Running%20Code.ipynb) pokazuje na czym polega interaktywność Jupytera.\n",
    "\n",
    "Jak zainstalować Jupytera dowiemy się [tutaj](https://jupyter.readthedocs.io/en/latest/install.html).\n",
    "\n",
    "Po zainstalowaniu programu przejdziemy do wykonania podstawowych obliczeń, aby zapoznać się z tą technologią.\n",
    "\n",
    "## Ćwiczenia (do wyboru, można $\\diamondsuit$ zrobić wszystkie, nie trzeba $\\neg\\square$)\n",
    "\n",
    "$\\boxdot$ Aha, dla pasjonatów $\\LaTeX$-a dobra wiadomość: tak, można umieszczać [składnię $\\LaTeX$-a](https://upmath.me/) w Markdownie Notebook-ów. A jak? A na przykład tak: `$\\LaTeX$`. Wielka lista symboli [tutal](https://www.rpi.edu/dept/arc/training/latex/LaTeX_symbols.pdf) i oczywiście nieśmiertelny [Detexify](http://detexify.kirelabs.org/classify.html). $\\boxdot$\n",
    "\n",
    "### Ćwiczenie 1: _Notatnik na każdą okazję_\n",
    "\n",
    "![sketchbook](images/sketchbook.jpg)\n",
    "\n",
    "Wybierz dowolny Jupyter Notebook z [tej](https://github.com/jupyter/jupyter/wiki/A-gallery-of-interesting-Jupyter-Notebooks) listy. Z ciekawszych przykładów polecam:\n",
    " * [Evolutionary computation course](https://nbviewer.jupyter.org/github/lmarti/evolutionary-computation-course/blob/master/AEC.04%20-%20Evolutionary%20Strategies%20and%20Covariance%20Matrix%20Adaptation.ipynb)\n",
    " * [Principal Component Analysis](https://github.com/jakevdp/PythonDataScienceHandbook/blob/master/notebooks/05.09-Principal-Component-Analysis.ipynb)\n",
    " * [Bayesia inference](https://nbviewer.jupyter.org/github/CamDavidsonPilon/Probabilistic-Programming-and-Bayesian-Methods-for-Hackers/blob/master/Chapter1_Introduction/Ch1_Introduction_PyMC3.ipynb)\n",
    " * [2d rigid-body transformations](https://nbviewer.jupyter.org/github/demotu/BMC/blob/master/notebooks/Transformation2D.ipynb)\n",
    " * [Human activity recognition](https://nbviewer.jupyter.org/github/markdregan/K-Nearest-Neighbors-with-Dynamic-Time-Warping/blob/master/K_Nearest_Neighbor_Dynamic_Time_Warping.ipynb)\n",
    " * [Is Bayesian inference implemented in our brain circuirty?](https://nbviewer.jupyter.org/github/wtadler/cue-combination-with-neurons/blob/master/neural_cue_combination.ipynb)\n",
    " * [Models and modelling](https://nbviewer.jupyter.org/github/arokem/teach_optimization/blob/master/optimization.ipynb)\n",
    " * [Mathematical models for neural receptive fields](https://nbviewer.jupyter.org/github/jonasnick/ReceptiveFields/blob/master/receptiveFields.ipynb)\n",
    " * [MVPA and neural statistics](https://nbviewer.jupyter.org/github/gestaltrevision/python_for_visres/blob/master/Part6/Part6_MVPA.ipynb)\n",
    "\n",
    "Pobierz wybrany przez Ciebie Notebook, odpal go, a następnie zmodyfikuj lokalnie (na Twoim komputerze).\n",
    "\n",
    "Kolejnym krokiem jest utworzenie nowego repozytorium na Twoim koncie na GitHub-ie i umieszczenie na nim Twojego Notebook-a. W dalszej kolejności wyświetl Notebook na GitHub-ie za pomocą narzędzia [nbviewer](https://nbviewer.jupyter.org/). Wynik możesz przesłać prowadzącemu, albo pochwalić się kolegom, czy koleżankom z Twojego roku ;)\n",
    "\n",
    "### Ćwicznie 2: _W butach prowadzącego_\n",
    "\n",
    "![kot](images/cat.png)\n",
    "\n",
    "Twoim zadaniem jest wytłumaczyć Twojej młodszej siostrze (lat 12) na czym polega przeprowadzenie eksperymentu naukowego i analizowanie jego wyników rozumianych jako statystyczne różnice między grupą eksperymentalną, a grupą kontrolną. Użyj do tego Notebooka w Jupyterze. Jeśli chcesz, przykład wyślij prowadzącemu. Najlepiej jako link na [nbviewer](https://nbviewer.jupyter.org/)-rze renderującego Notebook z Twojego GitHub-a. Przykład możesz też oczywiście przesłać Twojej siostrze lub bratu, jeśli rodzeństwo posiadasz.\n",
    "\n",
    "### Ćwiczenie 3: _Freestyle_\n",
    "\n",
    "Zaskocz prowadzącego. Zrób coś, czego nie zrobił nikt wcześniej. Wynik umieść na GitHubie, a link do [nbviewer](https://nbviewer.jupyter.org/)-a wyślij prowadzącemu.\n",
    "\n",
    "#### Bonusowy kotek na koniec\n",
    "\n",
    "Po przerobieniu ćwiczeń zasłużyliśmy na odpoczynek :) (kolejny kotek, bo nie mogłem się zdecydować, który obrazek wybrać).\n",
    "\n",
    "![kot śpi](images/cat_sleep.jpg)"
   ]
  }
 ],
 "metadata": {
  "kernelspec": {
   "display_name": "Python 3",
   "language": "python",
   "name": "python3"
  },
  "language_info": {
   "codemirror_mode": {
    "name": "ipython",
    "version": 3
   },
   "file_extension": ".py",
   "mimetype": "text/x-python",
   "name": "python",
   "nbconvert_exporter": "python",
   "pygments_lexer": "ipython3",
   "version": "3.7.4"
  }
 },
 "nbformat": 4,
 "nbformat_minor": 2
}
