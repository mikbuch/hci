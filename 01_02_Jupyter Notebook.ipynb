{
 "cells": [
  {
   "cell_type": "markdown",
   "metadata": {},
   "source": [
    "# 01.02 Jupyter Notebook\n",
    "\n",
    "Jupyter Notebook to technologia ułatwiająca wykonywanie interaktywnych obliczeń. Dzięki swojej przejrzystości i przystępności jest to również bardzo dobre narzędzie do celów edukacyjnych.\n",
    "\n",
    "[Ten przykład](https://nbviewer.jupyter.org/github/jupyter/notebook/blob/master/docs/source/examples/Notebook/Running%20Code.ipynb) pokazuje na czym polega interaktywność Jupytera.\n",
    "\n",
    "Jak zainstalować Jupytera dowiemy się [tutaj](https://jupyter.readthedocs.io/en/latest/install.html).\n",
    "\n",
    "Po zainstalowaniu programu przejdziemy do wykonania podstawowych obliczeń, aby zapoznać się z tą technologią."
   ]
  }
 ],
 "metadata": {
  "kernelspec": {
   "display_name": "Python 3",
   "language": "python",
   "name": "python3"
  },
  "language_info": {
   "codemirror_mode": {
    "name": "ipython",
    "version": 3
   },
   "file_extension": ".py",
   "mimetype": "text/x-python",
   "name": "python",
   "nbconvert_exporter": "python",
   "pygments_lexer": "ipython3",
   "version": "3.7.3"
  }
 },
 "nbformat": 4,
 "nbformat_minor": 2
}
