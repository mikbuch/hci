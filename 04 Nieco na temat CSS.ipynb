{
 "cells": [
  {
   "cell_type": "markdown",
   "metadata": {},
   "source": [
    "# 04. Nieco na temat CSS\n",
    "\n",
    "Podczas tych zajęć zapoznamy się ze sposobem, w który w Django używa się CSS (ang. _cascading style sheets_).\n",
    "\n",
    "Zobaczym jak to działa na konkretrnym przykładzie.\n",
    "\n",
    "Nawigujemy do naszego forderu, np: `C:\\Users\\student\\Documents\\mb`, a następnie wprowadzamy następujące komendy:\n",
    "\n",
    "```bash\n",
    "git clone https://github.com/mikbuch/django_css\n",
    "\n",
    "cd django_css\n",
    "\n",
    "pip install -r requirements.txt\n",
    "\n",
    "python manage.py migrate\n",
    "\n",
    "python manage.py runserver\n",
    "```\n",
    "\n",
    "## Na co warto zwrócić uwagę\n",
    "\n",
    "Nasz plik CSS znajduje się w: `django_css/static/css/main.css`.\n",
    "\n",
    "![css_atom_main](images/css_atom_main.png)\n",
    "\n",
    "Aby plik ten się załadował należy umieścić dwie linijki w `base.html`:\n",
    "\n",
    "Na początku:\n",
    "```python\n",
    "{% load static %}\n",
    "```\n",
    "\n",
    "Oraz w `<head>`-ie:\n",
    "```html\n",
    "    <link rel=\"stylesheet\" href=\"{% static 'css/main.css' %}\">\n",
    "```\n",
    "\n",
    "Jak w zamieszczonym przykładzie:\n",
    "\n",
    "![css_atom_load_static](images/css_atom_load_static.png)\n",
    "\n",
    "### Ćwiczenie 1: _kolory_\n",
    "\n",
    "Zmień kolory w pliku `main.css` i zobacz, jaki będzie to miało efekt.\n",
    "\n",
    "### Ćwiczenie 2: _własna inwencja twórcza_\n",
    "\n",
    "Zmień styl dla dowolnego isteniejącego elementu HTML lub dodaj własny. "
   ]
  }
 ],
 "metadata": {
  "kernelspec": {
   "display_name": "Python 3",
   "language": "python",
   "name": "python3"
  },
  "language_info": {
   "codemirror_mode": {
    "name": "ipython",
    "version": 3
   },
   "file_extension": ".py",
   "mimetype": "text/x-python",
   "name": "python",
   "nbconvert_exporter": "python",
   "pygments_lexer": "ipython3",
   "version": "3.6.8"
  }
 },
 "nbformat": 4,
 "nbformat_minor": 2
}
