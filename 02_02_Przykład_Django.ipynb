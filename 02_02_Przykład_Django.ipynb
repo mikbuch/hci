{
 "cells": [
  {
   "cell_type": "markdown",
   "metadata": {},
   "source": [
    "# 02.02 Django, przystępny przykład\n",
    "\n",
    "Będziemy bazować na [tym](https://www.geeksforgeeks.org/python-django-news-app/) przykładzie, ale przedstawimy go nieco inaczej, w sposób bardziej łopatologiczny.\n",
    "\n",
    "## Na początku był terminal\n",
    "\n",
    "![terminal](images/terminal.jpg)\n",
    "\n",
    "Najbardziej \"bolesna\" część naszego ćwiczenia będzie za moment za nami. Polega ona mianowicie na \"zainicjalizowaniu\" naszego projektu.\n",
    "\n",
    "Tworzymy nowy folder, w którym znajdować się będzie nasza aplikacja. To jeszcze możemy zrobić w programie do zarządzania plikami, tj. na przykład Windows Explorer. Proponowana lokacja to: `Dokumenty\\{moje_inicjały}`, gdzie `{moje_iniciały}` to na przykład `MB`.\n",
    "\n"
   ]
  }
 ],
 "metadata": {
  "kernelspec": {
   "display_name": "Python 3",
   "language": "python",
   "name": "python3"
  },
  "language_info": {
   "codemirror_mode": {
    "name": "ipython",
    "version": 3
   },
   "file_extension": ".py",
   "mimetype": "text/x-python",
   "name": "python",
   "nbconvert_exporter": "python",
   "pygments_lexer": "ipython3",
   "version": "3.7.4"
  }
 },
 "nbformat": 4,
 "nbformat_minor": 2
}
